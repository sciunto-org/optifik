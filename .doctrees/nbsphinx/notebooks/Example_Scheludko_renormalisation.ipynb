{
 "cells": [
  {
   "cell_type": "markdown",
   "id": "85190265-7738-4384-a9a1-dc30b21028ae",
   "metadata": {},
   "source": [
    "# Small thickness : Scheludko renormalisation"
   ]
  },
  {
   "cell_type": "markdown",
   "id": "159f3a59-b0ee-4d1a-8a7f-4c15a375782a",
   "metadata": {},
   "source": [
    "When four or fewer peaks are detected, the Scheludko renormalization method becomes effective. Since this method relies on the inverse function of the reflected intensity as a function of wavelength between two consecutive interference orders $m$, we distinguish between two cases : one with a non-zero interference order, and one with zero interference order."
   ]
  },
  {
   "cell_type": "markdown",
   "id": "ac06de2a-a310-461e-b03f-7560ee5282ca",
   "metadata": {},
   "source": [
    "## Case 1 : Non-zero interference order $m$"
   ]
  },
  {
   "cell_type": "markdown",
   "id": "28e22c56-a418-44ae-a45f-0f924e0783d6",
   "metadata": {},
   "source": [
    "### Step 1 : Identifying peak wavelength"
   ]
  },
  {
   "cell_type": "markdown",
   "id": "bd8690af-0a9f-4902-93ae-d25ba8a36256",
   "metadata": {},
   "source": [
    "Assuming the previous procedure has been followed and the resulting peak plot is as follows :"
   ]
  },
  {
   "cell_type": "markdown",
   "id": "90feb934-22c8-4189-a09e-6ed3faa8d5b6",
   "metadata": {},
   "source": [
    "<img src=\"Plot_Peak_Scheludko.png\" alt=\"Plot_Peak_Scheludko.png\" width=\"600\"/>"
   ]
  },
  {
   "cell_type": "markdown",
   "id": "bdbd238e-97d7-4917-a526-2007850b2664",
   "metadata": {},
   "source": [
    "In the $[450, 800]$ nm spectral range shown above, four peaks have been successfully detected, indicating that they correspond to non-zero interference orders. To apply the Scheludko renormalization method between the rightmost peaks, we first extract their wavelength. This is done using the `get_default_start_stop_wavelengths` function from the `optifik.scheludko` module. "
   ]
  },
  {
   "cell_type": "markdown",
   "id": "bac10394-1cf1-4a7f-bbc1-b4e43fb9aeaf",
   "metadata": {},
   "source": [
    "### <span style=\"color:blue;\">Code :</span> "
   ]
  },
  {
   "cell_type": "markdown",
   "id": "301cfa37-49a6-466b-8adb-275f49e6da84",
   "metadata": {},
   "source": [
    "```python\n",
    "from optifik.scheludko import get_default_start_stop_wavelengths\n",
    "\r",
    "### Extract the wavelength corresponding to the peak at the end of the rightmost monotonic branch\n",
    "get_default_start_stop_wavelengths(lambdas, Intensities_smoothed, refractive_index= 1.33,min_peak_prominence=0.019, plot=True)\n",
    "\n"
   ]
  },
  {
   "cell_type": "markdown",
   "id": "73b98df8-74d8-4828-b94a-1f4e450dc837",
   "metadata": {},
   "source": [
    "### <span style=\"color:blue;\">Console output :</span> "
   ]
  },
  {
   "cell_type": "markdown",
   "id": "bc56a910-bde0-42e2-9600-b0dc03738c98",
   "metadata": {},
   "source": [
    "```python\n",
    "(595.80422, 683.40758)"
   ]
  },
  {
   "cell_type": "markdown",
   "id": "cd6b7639-58ec-4944-8783-3b334362914e",
   "metadata": {},
   "source": [
    "The console output shows the wavelength corresponding to the peak at the end of the rightmost monotonic branch, which are 595.8 nm and 683.4 nm in this example"
   ]
  },
  {
   "cell_type": "markdown",
   "id": "1740e713-43b9-4aa4-875d-2dc5720a2b9b",
   "metadata": {},
   "source": [
    "### <span style=\"color:purple;\">Remarks:</span> \n",
    "- The example correponds to the file `000005253.xy`, located in the `..\\tests\\basic` folder\n",
    "- You can specify the medium's refractive index and the peak prominence using the `refractive_index` and `min_peak_prominence` parameters, respectively.\n",
    "- You can also provide a refractive index function $n(\\lambda)$ as an `refractive_index` input."
   ]
  },
  {
   "cell_type": "markdown",
   "id": "b89d60f1-a9aa-4d9a-9a1d-6856821555f1",
   "metadata": {},
   "source": [
    "### Step 2 : Determine film thickness"
   ]
  },
  {
   "cell_type": "markdown",
   "id": "e65f49f4-463f-4e65-8272-ce78aa5e07b5",
   "metadata": {},
   "source": [
    "To derive the film thickness $h$, we use the `thickness_from_scheludko` function from the `optifik.scheludko` module. Here an exemple of plots you can obtain."
   ]
  },
  {
   "cell_type": "markdown",
   "id": "1c7e6d34-14c8-4b3a-8927-158a44c32fdc",
   "metadata": {},
   "source": [
    "<img src=\"Plot_h_order.png\" alt=\"Plot_h_order.png\" width=\"500\"/><img src=\"Plot_Scheludko_m_NonZero.png\" alt=\"Plot_Scheludko_m_NonZero.png\" width=\"500\"/>"
   ]
  },
  {
   "cell_type": "markdown",
   "id": "bd6bf622-28da-4777-85f2-a9e0c117eb9c",
   "metadata": {},
   "source": [
    "The left plot shows the Scheludko thickness computation at each wavelength $\\lambda$ along the rightmost monotonic branch (see Step 1), for all interference orders between 0 and 12. The code automatically determines the correct interference order $m$ and calculates the corresponding film thickness $h$."
   ]
  },
  {
   "cell_type": "markdown",
   "id": "887a881f-df90-4a0b-85ce-43d7deb36274",
   "metadata": {
    "jp-MarkdownHeadingCollapsed": true
   },
   "source": [
    "### <span style=\"color:red;\"> Complete Code :</span> \n",
    "\n",
    "```python\n",
    "import numpy as np\n",
    "from optifik.io import load_spectrum\n",
    "from optifik.analysis import plot_spectrum\n",
    "from optifik.analysis import smooth_intensities\n",
    "from optifik.scheludko import get_default_start_stop_wavelengths\n",
    "from optifik.scheludko import thickness_from_scheludko\n",
    "\n",
    "# Define the path to the folder containing your .xy file\n",
    "Data_folder = r'C:\\path\\to\\your\\data'\n",
    "\n",
    "# Load wavelengths and intensities from the file\n",
    "lambdas, intensities = load_spectrum(Data_folder, wavelength_min=450)\n",
    "\n",
    "# Intensity as a function of wavelength\n",
    "plot_spectrum(lambdas,intensities)\n",
    "\n",
    "# Smoothing the intensity\n",
    "Intensities_smoothed = smooth_intensities(intensities)\n",
    "\n",
    "# Smoothed intensity as a function of wavelength\n",
    "plot_spectrum(lambdas, Intensities_smoothed)\n",
    "\n",
    "# Extract the wavelength corresponding to the peak at the end of the rightmost monotonic branch\n",
    "wavelength_min, wavelength_max = get_default_start_stop_wavelengths(lambdas, \n",
    "                                                                    Intensities_smoothed, \n",
    "                                                                    refractive_index= 1.33,\n",
    "                                                                    min_peak_prominence=0.019, \n",
    "                                                                    plot=True)\n",
    "\n",
    "# Create a refractive index array matching the shape of 'lambdas', assuming a constant value of 1.33\n",
    "refractive_index = np.full_like(lambdas, 1.33)\n",
    "\n",
    "# Determine the film thickness by Sheludko renormalisation\n",
    "thickness_from_scheludko(lambdas,\n",
    "                         Intensities_smoothed,\n",
    "                         refractive_index=refractive_index,\n",
    "                         wavelength_start=wavelength_min,\n",
    "                         wavelength_stop=wavelength_max,\n",
    "                         interference_order=None,\n",
    "                         intensities_void=None,\n",
    "                         plot=True)"
   ]
  },
  {
   "cell_type": "markdown",
   "id": "57c0bb41-54a7-4aab-8e2a-304f8fda6106",
   "metadata": {},
   "source": [
    "### <span style=\"color:blue;\"> Console output :</span> "
   ]
  },
  {
   "cell_type": "markdown",
   "id": "1e1bb704-f534-4027-9310-36b195b9217f",
   "metadata": {},
   "source": [
    "```python\n",
    "h-difference for m=0: 112.0 nm\n",
    "h-difference for m=1: 144.9 nm\n",
    "h-difference for m=2: 79.1 nm\n",
    "h-difference for m=3: 177.9 nm\n",
    "h-difference for m=4: 47.6 nm\n",
    "h-difference for m=5: 210.8 nm\n",
    "h-difference for m=6: 16.6 nm\n",
    "h-difference for m=7: 243.7 nm\n",
    "h-difference for m=8: 33.3 nm\n",
    "h-difference for m=9: 276.7 nm\n",
    "h-difference for m=10: 65.2 nm\n",
    "h-difference for m=11: 309.6 nm\n",
    "h-difference for m=12: 97.1 nm\n",
    "Out[1]: \n",
    "    stderr: 0.09997378762434937\n",
    " thickness: 778.1384700848703"
   ]
  },
  {
   "cell_type": "markdown",
   "id": "06d5baa0-a8c9-4b62-8840-574d94b643ea",
   "metadata": {},
   "source": [
    "The console output shows the maximum thickness difference for every interfererence order $m$ from 0 to 12 with the smallest difference indicating the correct order, here $m=6$. It also provides the film thickness along with its associated uncertainty, here $h=778$ nm."
   ]
  },
  {
   "cell_type": "markdown",
   "id": "c44a52d2-94db-4701-bcc9-6b7d9f8b0612",
   "metadata": {
    "jp-MarkdownHeadingCollapsed": true
   },
   "source": [
    "### <span style=\"color:purple;\">Remarks:</span> \n",
    "- It is **mandatory** to provide a refractive index function $n(\\lambda)$ as an `refractive_index` input. Note that in this example, a constant function is used, but a wavelength-dependent model such as Cauchy's law $\\left(n(\\lambda) = A + \\frac{B}{\\lambda^2}\\right)$ could also be used.\n",
    "- It is **mandatory** to give `wavelength_start` and `wavelength_stop`.\n",
    "- You can specify manually any interferencer order using the `interferencer order`parameter."
   ]
  },
  {
   "cell_type": "markdown",
   "id": "51577fb6-6216-4d3d-a965-9c6987c12cca",
   "metadata": {},
   "source": [
    "## Case 2 : zero interference order $m$"
   ]
  },
  {
   "cell_type": "markdown",
   "id": "63712764-7446-4986-9829-ebab15943b54",
   "metadata": {},
   "source": [
    "Assuming the previous procedure has been followed and the resulting peak plot is as follows :"
   ]
  },
  {
   "cell_type": "markdown",
   "id": "1da73b5b-bc24-4a7f-a670-348705e0d6cc",
   "metadata": {},
   "source": [
    "<img src=\"Plot_Spectrum_m_is_0.png\" alt=\"Plot_Spectrum_m_is_0.png\" width=\"600\"/>"
   ]
  },
  {
   "cell_type": "markdown",
   "id": "545c34ea-58a8-4553-894f-5ad8d371812b",
   "metadata": {},
   "source": [
    "In the $[450, 800]$ nm spectral range shown above, only one maximum have been successfully detected, indicating that it corresponds to zero interference order. To apply the Scheludko renormalization method we use the the void intensity as in input in using the `thickness_from_scheludko` function from the `optifik.scheludko` module. Here an exemple of plot you can obtain. "
   ]
  },
  {
   "cell_type": "markdown",
   "id": "ca741d46-cb96-465f-8300-98f99925693d",
   "metadata": {},
   "source": [
    "<img src=\"Plot_Scheludko_m_Zero.png\" alt=\"Plot_Scheludko_m_Zero0.png\" width=\"600\"/>"
   ]
  },
  {
   "cell_type": "markdown",
   "id": "7acdd3a7-acc1-4d59-8890-6e2ca64f017f",
   "metadata": {},
   "source": [
    "### <span style=\"color:red;\"> Complete Code :</span> \n",
    "\n",
    "```python\n",
    "import numpy as np\n",
    "from optifik.io import load_spectrum\n",
    "from optifik.analysis import plot_spectrum\n",
    "from optifik.analysis import smooth_intensities\n",
    "from optifik.scheludko import thickness_from_scheludko\n",
    "\n",
    "# Define the path to the folder containing your .xy file\n",
    "Data_folder = r'C:\\path\\to\\your\\data'\n",
    "\n",
    "# Load wavelengths and intensities from the file\n",
    "lambdas, intensities = load_spectrum(Data_folder, wavelength_min=450)\n",
    "\n",
    "# Intensity as a function of wavelength\n",
    "plot_spectrum(lambdas,intensities)\n",
    "\n",
    "# Smoothing the intensity\n",
    "Intensities_smoothed = smooth_intensities(intensities)\n",
    "\n",
    "# Smoothed intensity as a function of wavelength\n",
    "plot_spectrum(lambdas, Intensities_smoothed)\n",
    "\n",
    "# Define the path to the folder containing your .xy void file\n",
    "Data_folder_void = r'C:\\path\\to\\your\\data'\n",
    "\n",
    "# Load wavelengths and intensities from the void file\n",
    "lambdas_void, intensities_void = load_spectrum(Data_folder_void, wavelength_min=450)\n",
    "\n",
    "# Create a refractive index array matching the shape of 'lambdas', assuming a constant value of 1.33\n",
    "refractive_index = np.full_like(lambdas, 1.33)\n",
    " \n",
    "# Determine the film thickness by Sheludko renormalisation\n",
    "thickness_from_scheludko(lambdas,\n",
    "                         Intensities_smoothed,\n",
    "                         refractive_index= refractive_index,\n",
    "                         wavelength_start= None,\n",
    "                         wavelength_stop=None,\n",
    "                         interference_order=0,\n",
    "                         intensities_void=intensities_void,\n",
    "                         plot=True)"
   ]
  },
  {
   "cell_type": "markdown",
   "id": "68b10126-bb0e-4054-b49b-c9a954f3278a",
   "metadata": {},
   "source": [
    "### <span style=\"color:blue;\"> Console output :</span> "
   ]
  },
  {
   "cell_type": "markdown",
   "id": "f9a5077f-9796-445e-a7aa-2eb200cf3b4a",
   "metadata": {},
   "source": [
    "```python\n",
    "Out[1]: \r\n",
    "    stderr: 0.07063184770702519\r\n",
    " thickness: 115.3088570107459"
   ]
  },
  {
   "cell_type": "markdown",
   "id": "91f40c8e-ace7-4b5c-89e7-e04c9f357eec",
   "metadata": {},
   "source": [
    "The console output shows the film thickness along with its associated uncertainty, here $h= 115$ nm."
   ]
  },
  {
   "cell_type": "markdown",
   "id": "0b8bcf90-4922-4286-813a-7469ff059bb8",
   "metadata": {},
   "source": [
    "### <span style=\"color:purple;\">Remarks:</span> \n",
    "- It is **mandatory** to provide a refractive index function $n(\\lambda)$ as an `refractive_index` input. Note that in this example, a constant function is used, but a wavelength-dependent model such as Cauchy's law $\\left(n(\\lambda) = A + \\frac{B}{\\lambda^2}\\right)$ could also be used.\n",
    "- It is **not** mandatory to give `wavelength_start` and `wavelength_stop`.\n",
    "- It is **mandatory** to give the `intensities_void` parameter in the same format as the `Intensities_smoothed` parameter."
   ]
  }
 ],
 "metadata": {
  "kernelspec": {
   "display_name": "Python 3 (ipykernel)",
   "language": "python",
   "name": "python3"
  },
  "language_info": {
   "codemirror_mode": {
    "name": "ipython",
    "version": 3
   },
   "file_extension": ".py",
   "mimetype": "text/x-python",
   "name": "python",
   "nbconvert_exporter": "python",
   "pygments_lexer": "ipython3",
   "version": "3.11.7"
  }
 },
 "nbformat": 4,
 "nbformat_minor": 5
}
