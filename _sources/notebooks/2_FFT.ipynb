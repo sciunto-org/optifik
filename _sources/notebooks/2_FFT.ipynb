{
 "cells": [
  {
   "cell_type": "markdown",
   "id": "0",
   "metadata": {},
   "source": [
    "# Thick films : Fast Fourier Transform (FFT) Method"
   ]
  },
  {
   "cell_type": "markdown",
   "id": "1",
   "metadata": {},
   "source": [
    "When the spectrum contains a large number of peaks (> 15), the most suitable method is to make an FFT. Theoritical details will be provided in an upcoming publication. "
   ]
  },
  {
   "cell_type": "markdown",
   "id": "2",
   "metadata": {},
   "source": [
    "Assuming the previous procedure has been followed and the resulting peak plot is as follows :"
   ]
  },
  {
   "cell_type": "code",
   "execution_count": null,
   "id": "3",
   "metadata": {},
   "outputs": [],
   "source": [
    "from pathlib import Path\n",
    "from optifik.io import load_spectrum\n",
    "from optifik.analysis import plot_spectrum\n",
    "from optifik.analysis import smooth_intensities\n",
    "from optifik.analysis import finds_peak\n",
    "\n",
    "# Define the path to the folder containing your .xy file\n",
    "datafile_path = Path('../../data/basic/003582.xy')\n",
    "\n",
    "# Load wavelengths and intensities from the file\n",
    "wavelengths, intensities = load_spectrum(datafile_path, \n",
    "                                         wavelength_min=450, \n",
    "                                         wavelength_max=1000)\n",
    "\n",
    "# Smoothing the intensity\n",
    "intensities_smoothed = smooth_intensities(intensities)\n",
    "\n",
    "# Peak detection function\n",
    "# min_peak_prominence and min_peak_distance can be adjusted.\n",
    "finds_peak(wavelengths, intensities_smoothed, \n",
    "           min_peak_prominence=0.018, \n",
    "           min_peak_distance=10, \n",
    "           plot=True)"
   ]
  },
  {
   "cell_type": "markdown",
   "id": "4",
   "metadata": {},
   "source": [
    "For this case, 21 peak have been successfully identified. To derive the film thickness $h$, we use the `thickness_from_fft` function from the `optifik.fft` module. Here an exemple of plot you can obtain."
   ]
  },
  {
   "cell_type": "code",
   "execution_count": null,
   "id": "5",
   "metadata": {},
   "outputs": [],
   "source": [
    "from optifik.fft import thickness_from_fft\n",
    "\n",
    "# Determine the film thickness by Fast Fourier Transform\n",
    "thickness_from_fft(wavelengths, intensities_smoothed,\n",
    "                   refractive_index=1.33,\n",
    "                   num_half_space=None,\n",
    "                   plot=True)"
   ]
  },
  {
   "cell_type": "markdown",
   "id": "6",
   "metadata": {},
   "source": [
    "The `thickness_from_fft` function automatically determines the film thickness.\n"
   ]
  },
  {
   "cell_type": "markdown",
   "id": "7",
   "metadata": {},
   "source": [
    "The uncertainty is determined from the step size in the Fourier space, which is determined by the length of the signal, *ie* the wavelength range. It is possible to reduce this uncertainty by applying a zero-padding to the data increase this range, which helps to narrow down the peak detection. "
   ]
  },
  {
   "cell_type": "code",
   "execution_count": null,
   "id": "8",
   "metadata": {},
   "outputs": [],
   "source": [
    "thickness_from_fft(wavelengths, intensities_smoothed,\n",
    "                   refractive_index=1.33,\n",
    "                   num_half_space=None,\n",
    "                   N_padding=8,\n",
    "                   plot=True)"
   ]
  },
  {
   "cell_type": "markdown",
   "id": "9",
   "metadata": {},
   "source": [
    "- You can specify the medium's refractive index using the `refractive_index` parameter.\n",
    "- You can also provide a refractive index array $n(\\lambda)$ as an `refractive_index` input.\n",
    "- Even if peak detection occasionally fails, it has no impact on the FFT since the transform is applied to the entire dataset."
   ]
  },
  {
   "cell_type": "markdown",
   "id": "10",
   "metadata": {},
   "source": [
    "In the following, we will see the case where the spectrum contains only few peaks."
   ]
  }
 ],
 "metadata": {
  "kernelspec": {
   "display_name": "Python 3 (ipykernel)",
   "language": "python",
   "name": "python3"
  },
  "language_info": {
   "codemirror_mode": {
    "name": "ipython",
    "version": 3
   },
   "file_extension": ".py",
   "mimetype": "text/x-python",
   "name": "python",
   "nbconvert_exporter": "python",
   "pygments_lexer": "ipython3",
   "version": "3.13.7"
  }
 },
 "nbformat": 4,
 "nbformat_minor": 5
}
