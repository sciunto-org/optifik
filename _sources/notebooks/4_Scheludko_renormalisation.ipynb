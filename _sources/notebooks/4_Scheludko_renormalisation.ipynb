{
 "cells": [
  {
   "cell_type": "markdown",
   "id": "0",
   "metadata": {},
   "source": [
    "# Small thickness : Scheludko renormalisation"
   ]
  },
  {
   "cell_type": "markdown",
   "id": "1",
   "metadata": {},
   "source": [
    "When four or fewer peaks are detected, the Scheludko renormalization method becomes effective. Since this method relies on the inverse function of the reflected intensity as a function of wavelength between two consecutive interference orders $m$, we distinguish between two cases : one with a non-zero interference order, and one with zero interference order."
   ]
  },
  {
   "cell_type": "markdown",
   "id": "2",
   "metadata": {},
   "source": [
    "## Case 1 : Non-zero interference order $m$"
   ]
  },
  {
   "cell_type": "markdown",
   "id": "3",
   "metadata": {},
   "source": [
    "### Step 1 : Identifying peak wavelength"
   ]
  },
  {
   "cell_type": "markdown",
   "id": "4",
   "metadata": {},
   "source": [
    "Assuming the previous procedure has been followed and the resulting peak plot is as follows :"
   ]
  },
  {
   "cell_type": "code",
   "execution_count": null,
   "id": "5",
   "metadata": {},
   "outputs": [],
   "source": [
    "from pathlib import Path\n",
    "from optifik.io import load_spectrum\n",
    "from optifik.analysis import plot_spectrum\n",
    "from optifik.analysis import smooth_intensities\n",
    "from optifik.analysis import finds_peak\n",
    "\n",
    "# Define the path to the folder containing your .xy file\n",
    "datafile_path = datafile_path = Path('../../data/basic/000005253.xy')\n",
    "\n",
    "# Load wavelengths and intensities from the file\n",
    "wavelengths, intensities = load_spectrum(datafile_path, \n",
    "                                         wavelength_min=450, \n",
    "                                         wavelength_max=800)\n",
    "\n",
    "# Smoothing the intensity\n",
    "intensities_smoothed = smooth_intensities(intensities)\n",
    "\n",
    "# Peak detection function, min_peak_prominence and min_peak_distance can be adjusted.\n",
    "peaks_min, peaks_max = finds_peak(wavelengths, intensities_smoothed, \n",
    "                                   min_peak_prominence=0.02, \n",
    "                                   min_peak_distance=10, \n",
    "                                   plot=True)"
   ]
  },
  {
   "cell_type": "markdown",
   "id": "6",
   "metadata": {},
   "source": [
    "In the $[450, 800]$ nm spectral range shown above, four peaks have been successfully detected, indicating that they correspond to non-zero interference orders. To apply the Scheludko renormalization method between the rightmost peaks, we first extract their wavelength. This is done using the `get_default_start_stop_wavelengths` function from the `optifik.scheludko` module. "
   ]
  },
  {
   "cell_type": "code",
   "execution_count": null,
   "id": "7",
   "metadata": {},
   "outputs": [],
   "source": [
    "from optifik.scheludko import get_default_start_stop_wavelengths\n",
    "\r",
    "# Extract the wavelength corresponding to the peak at the end of the rightmost monotonic branch\n",
    "start, stop = get_default_start_stop_wavelengths(wavelengths, intensities_smoothed, \n",
    "                                                 refractive_index=1.33, \n",
    "                                                 min_peak_prominence=0.02, \n",
    "                                                 plot=True)"
   ]
  },
  {
   "cell_type": "markdown",
   "id": "8",
   "metadata": {},
   "source": [
    "The console output shows the wavelength corresponding to the peak at the end of the rightmost monotonic branch, which are 595.8 nm and 683.4 nm in this example"
   ]
  },
  {
   "cell_type": "markdown",
   "id": "9",
   "metadata": {},
   "source": [
    "- The example correponds to the file `000005253.xy`, located in the `..\\tests\\basic` folder\n",
    "- You can specify the medium's refractive index and the peak prominence using the `refractive_index` and `min_peak_prominence` parameters, respectively.\n",
    "- You can also provide a refractive index function $n(\\lambda)$ as an `refractive_index` input."
   ]
  },
  {
   "cell_type": "markdown",
   "id": "10",
   "metadata": {},
   "source": [
    "### Step 2 : Determine film thickness"
   ]
  },
  {
   "cell_type": "markdown",
   "id": "11",
   "metadata": {},
   "source": [
    "To derive the film thickness $h$, we use the `thickness_from_scheludko` function from the `optifik.scheludko` module. Here an exemple of plots you can obtain."
   ]
  },
  {
   "cell_type": "code",
   "execution_count": null,
   "id": "12",
   "metadata": {},
   "outputs": [],
   "source": [
    "from optifik.scheludko import thickness_from_scheludko\n",
    "\n",
    "# Extract the wavelength corresponding to the peak at the end of the rightmost monotonic branch\n",
    "wavelength_min, wavelength_max = get_default_start_stop_wavelengths(wavelengths, \n",
    "                                                                    intensities_smoothed, \n",
    "                                                                    refractive_index= 1.33,\n",
    "                                                                    min_peak_prominence=0.019, \n",
    "                                                                    plot=True)\n",
    "\n",
    "# Refractive index calculated using Cauchy's law\n",
    "refractive_index = 1.324188 + 3102.060378 / (wavelengths**2)\n",
    "\n",
    "# Determine the film thickness by Sheludko renormalisation\n",
    "result = thickness_from_scheludko(wavelengths,\n",
    "                                 intensities_smoothed,\n",
    "                                 refractive_index=refractive_index,\n",
    "                                 wavelength_start=wavelength_min,\n",
    "                                 wavelength_stop=wavelength_max,\n",
    "                                 interference_order=None,\n",
    "                                 intensities_void=None,\n",
    "                                 plot=True)"
   ]
  },
  {
   "cell_type": "markdown",
   "id": "13",
   "metadata": {},
   "source": [
    "The first plot shows the Scheludko thickness computation at each wavelength $\\lambda$ along the rightmost monotonic branch (see Step 1), for all interference orders between 0 and 8 (by default). The code automatically determines the correct interference order $m$ and calculates the corresponding film thickness $h$. The second plot fit the data with $h$ as an initial guess."
   ]
  },
  {
   "cell_type": "markdown",
   "id": "14",
   "metadata": {},
   "source": [
    "- You can provide a refractive index constant $n(\\lambda) = n$ as an `refractive_index` input. Note that in this example a wavelength-dependent model such as Cauchy's law $\\left(n(\\lambda) = A + \\frac{B}{\\lambda^2}\\right)$ is used.\n",
    "- It is **mandatory** to give `wavelength_start` and `wavelength_stop`.\n",
    "- You can specify manually `wavelength_start` and `wavelength_stop`parameters but, **be careful** - this may lead to incorrect results\n",
    "- You can specify manually any interferencer order using the `interferencer order`parameter."
   ]
  },
  {
   "cell_type": "markdown",
   "id": "15",
   "metadata": {},
   "source": [
    "## Case 2 : zero interference order $m$"
   ]
  },
  {
   "cell_type": "markdown",
   "id": "16",
   "metadata": {},
   "source": [
    "Assuming the previous procedure has been followed and the resulting peak plot is as follows :"
   ]
  },
  {
   "cell_type": "code",
   "execution_count": null,
   "id": "17",
   "metadata": {},
   "outputs": [],
   "source": [
    "from pathlib import Path\n",
    "from optifik.io import load_spectrum\n",
    "from optifik.analysis import plot_spectrum\n",
    "from optifik.analysis import smooth_intensities\n",
    "from optifik.analysis import finds_peak\n",
    "\n",
    "# Define the path to the folder containing your .xy file\n",
    "datafile_path = datafile_path = Path('../../data/basic/000018918.xy')\n",
    "\n",
    "# Load wavelengths and intensities from the file\n",
    "wavelengths, intensities = load_spectrum(datafile_path, \n",
    "                                         wavelength_min=450, \n",
    "                                         wavelength_max=800)\n",
    "\n",
    "# Smoothing the intensity\n",
    "intensities_smoothed = smooth_intensities(intensities)\n",
    "\n",
    "# Peak detection function, min_peak_prominence and min_peak_distance can be adjusted.\n",
    "finds_peak(wavelengths, intensities_smoothed, \n",
    "           min_peak_prominence=0.02, \n",
    "           min_peak_distance=10, \n",
    "           plot=True)"
   ]
  },
  {
   "cell_type": "markdown",
   "id": "18",
   "metadata": {},
   "source": [
    "In the $[450, 800]$ nm spectral range shown above, only one maximum have been successfully detected, indicating that it corresponds to zero interference order. To apply the Scheludko renormalization method we use the the void intensity as in input in using the `thickness_from_scheludko` function from the `optifik.scheludko` module. Here an exemple of plot you can obtain. "
   ]
  },
  {
   "cell_type": "code",
   "execution_count": null,
   "id": "19",
   "metadata": {},
   "outputs": [],
   "source": [
    "from optifik.scheludko import thickness_from_scheludko\n",
    "\n",
    "# Define the path to the folder containing your .xy void file\n",
    "Data_folder_void = Path('../../data/basic/void.xy')\n",
    "# Load wavelengths and intensities from the void file\n",
    "lambdas_void, intensities_void = load_spectrum(Data_folder_void, \n",
    "                                               wavelength_min=450, \n",
    "                                               wavelength_max=800)\n",
    "\n",
    "# Refractive index calculated using Cauchy's law\n",
    "refractive_index = 1.324188 + 3102.060378 / (wavelengths**2)\n",
    " \n",
    "# Determine the film thickness by Sheludko renormalisation\n",
    "result = thickness_from_scheludko(wavelengths, intensities_smoothed,\n",
    "                                 refractive_index=refractive_index,\n",
    "                                 wavelength_start=None,\n",
    "                                 wavelength_stop=None,\n",
    "                                 interference_order=0,\n",
    "                                 intensities_void=intensities_void,\n",
    "                                 plot=True)"
   ]
  },
  {
   "cell_type": "markdown",
   "id": "20",
   "metadata": {},
   "source": [
    "The second plot fit the data with $h$ as an initial guess. The output shows the film thickness along with its associated uncertainty."
   ]
  },
  {
   "cell_type": "code",
   "execution_count": null,
   "id": "21",
   "metadata": {},
   "outputs": [],
   "source": [
    "print(result)"
   ]
  },
  {
   "cell_type": "markdown",
   "id": "22",
   "metadata": {},
   "source": [
    "- You can provide a refractive index constant $n(\\lambda) = n$ as an `refractive_index` input. Note that in this example a wavelength-dependent model such as Cauchy's law $\\left(n(\\lambda) = A + \\frac{B}{\\lambda^2}\\right)$ is used.\n",
    "- It is **not** mandatory to give `wavelength_start` and `wavelength_stop`.\n",
    "- It is **mandatory** to give the `intensities_void` parameter in the same format as the `intensities_smoothed` parameter."
   ]
  }
 ],
 "metadata": {
  "kernelspec": {
   "display_name": "Python 3 (ipykernel)",
   "language": "python",
   "name": "python3"
  },
  "language_info": {
   "codemirror_mode": {
    "name": "ipython",
    "version": 3
   },
   "file_extension": ".py",
   "mimetype": "text/x-python",
   "name": "python",
   "nbconvert_exporter": "python",
   "pygments_lexer": "ipython3",
   "version": "3.13.7"
  }
 },
 "nbformat": 4,
 "nbformat_minor": 5
}
