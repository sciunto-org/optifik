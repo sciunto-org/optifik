{
 "cells": [
  {
   "cell_type": "markdown",
   "id": "0",
   "metadata": {},
   "source": [
    "# Intermediate thickness: Peak fitting"
   ]
  },
  {
   "cell_type": "markdown",
   "id": "1",
   "metadata": {},
   "source": [
    "When the spectrum contains only few peaks, FFT method becomes less reliable. To determine the film thickness $h$, we consider two scenarii : either the peak fitting is successful, or small fitting errors are present. Theoritical backgrounds of the two method are explain in an upcoming publication."
   ]
  },
  {
   "cell_type": "markdown",
   "id": "2",
   "metadata": {},
   "source": [
    "## Scenario 1: Successful peak fitting"
   ]
  },
  {
   "cell_type": "markdown",
   "id": "3",
   "metadata": {},
   "source": [
    "Assuming the previous procedure has been followed and the resulting peak plot is as follows :"
   ]
  },
  {
   "cell_type": "code",
   "execution_count": null,
   "id": "4",
   "metadata": {},
   "outputs": [],
   "source": [
    "from pathlib import Path\n",
    "from optifik.io import load_spectrum\n",
    "from optifik.analysis import plot_spectrum\n",
    "from optifik.analysis import smooth_intensities\n",
    "from optifik.analysis import finds_peak\n",
    "\n",
    "# Define the path to the folder containing your .xy file\n",
    "datafile_path = Path('../../data/basic/000004310.xy')\n",
    "# Load wavelengths and intensities from the file\n",
    "wavelengths, intensities = load_spectrum(datafile_path, \n",
    "                                         wavelength_min=450, \n",
    "                                         wavelength_max=800)\n",
    "\n",
    "# Smoothing the intensity\n",
    "intensities_smoothed = smooth_intensities(intensities)\n",
    "\n",
    "# Peak detection function, min_peak_prominence and min_peak_distance can be adjusted.\n",
    "finds_peak(wavelengths, intensities_smoothed, \n",
    "           min_peak_prominence=0.018, \n",
    "           min_peak_distance=10, \n",
    "           plot=True)"
   ]
  },
  {
   "cell_type": "markdown",
   "id": "5",
   "metadata": {},
   "source": [
    "To derive the film thickness $h$, we use the linear regression method `method='linreg'` of the `thickness_from_minmax` function from the `optifik.minmax` module. Here an exemple of plot you can obtain."
   ]
  },
  {
   "cell_type": "code",
   "execution_count": null,
   "id": "6",
   "metadata": {},
   "outputs": [],
   "source": [
    "from optifik.minmax import thickness_from_minmax\n",
    "\n",
    "# Determine the film thickness by least squares linear regression\n",
    "thickness_from_minmax(wavelengths, intensities_smoothed, \n",
    "                      refractive_index=1.33, \n",
    "                      min_peak_prominence=0.018,\n",
    "                      min_peak_distance=10, \n",
    "                      method='linreg', \n",
    "                      plot=True)\r\n"
   ]
  },
  {
   "cell_type": "markdown",
   "id": "7",
   "metadata": {},
   "source": [
    "The least-squares regression method in the `thickness_from_minmax` function automatically determines the film thickness $h$."
   ]
  },
  {
   "cell_type": "markdown",
   "id": "8",
   "metadata": {},
   "source": [
    "The console output shows the wavelength peak indices for minima and maxima, along with the standard deviation of the film thickness $h$, which is 1363.25 nm in this example"
   ]
  },
  {
   "cell_type": "markdown",
   "id": "9",
   "metadata": {
    "jp-MarkdownHeadingCollapsed": true
   },
   "source": [
    "- The example correponds to the file `000004310.xy`, located in the `..\\tests\\basic` folder\n",
    "- You can specify the medium's refractive index, the peak prominence and the minimum peak distance using the `refractive_index`, `min_peak_prominence` and the  `min_peak_distance` parameters, respectively.\n",
    "- You can also provide a refractive index array $n(\\lambda)$ as an `refractive_index` input."
   ]
  },
  {
   "cell_type": "markdown",
   "id": "10",
   "metadata": {},
   "source": [
    "## Scenario 2: Small errors detection"
   ]
  },
  {
   "cell_type": "markdown",
   "id": "11",
   "metadata": {},
   "source": [
    "Assuming the previous procedure has been followed and the resulting peak plot is as follows :"
   ]
  },
  {
   "cell_type": "code",
   "execution_count": null,
   "id": "12",
   "metadata": {},
   "outputs": [],
   "source": [
    "from pathlib import Path\n",
    "from optifik.io import load_spectrum\n",
    "from optifik.analysis import plot_spectrum\n",
    "from optifik.analysis import smooth_intensities\n",
    "from optifik.analysis import finds_peak\n",
    "\n",
    "# Define the path to the folder containing your .xy file\n",
    "datafile_path = Path('../../data/basic/Fail_000004168.xy')\n",
    "\n",
    "# Load wavelengths and intensities from the file\n",
    "wavelengths, intensities = load_spectrum(datafile_path, \n",
    "                                         wavelength_min=450, \n",
    "                                         wavelength_max=800)\n",
    "\n",
    "# Smoothing the intensity\n",
    "intensities_smoothed = smooth_intensities(intensities)\n",
    "\n",
    "# Peak detection function, min_peak_prominence and min_peak_distance can be adjusted.\n",
    "finds_peak(wavelengths, intensities_smoothed, \n",
    "           min_peak_prominence=0.018, \n",
    "           min_peak_distance=10, \n",
    "           plot=True)"
   ]
  },
  {
   "cell_type": "markdown",
   "id": "13",
   "metadata": {},
   "source": [
    "On the above figure, errors are visible on the rightmost data points. To derive the film thickness $h$, we use the RANSAC method `method='ransac'` of the `thickness_from_minmax` function from the `optifik.minmax` module. Here an exemple of plot you can obtain."
   ]
  },
  {
   "cell_type": "code",
   "execution_count": null,
   "id": "14",
   "metadata": {},
   "outputs": [],
   "source": [
    "from optifik.minmax import thickness_from_minmax\n",
    "\n",
    "# Determine the film thickness by RANSAC procedure\n",
    "thickness_from_minmax(wavelengths,intensities_smoothed,\n",
    "                      refractive_index=1.33,\n",
    "                      min_peak_prominence=0.018, \n",
    "                      min_peak_distance=10,\n",
    "                      method='ransac', \n",
    "                      plot=True)"
   ]
  },
  {
   "cell_type": "markdown",
   "id": "15",
   "metadata": {},
   "source": [
    "The RANSAC-based method in the `thickness_from_minmax` function automatically determines the film thickness $h$.\n"
   ]
  },
  {
   "cell_type": "markdown",
   "id": "16",
   "metadata": {},
   "source": [
    "The console output shows the number of successfully detected peaks, the number of failed detections, the wavelength peak indices for both minima and maxima, and the film thickness $h$, which is 1453.94 nm in this example."
   ]
  },
  {
   "cell_type": "markdown",
   "id": "17",
   "metadata": {},
   "source": [
    "- You can specify the medium's refractive index, the peak prominence and the minimum peak distance using the `refractive_index`, `min_peak_prominence` and the  `min_peak_distance` parameters, respectively.\n",
    "- You can also provide a refractive index function $n(\\lambda)$ as an `refractive_index` input."
   ]
  },
  {
   "cell_type": "markdown",
   "id": "18",
   "metadata": {},
   "source": [
    "In the following, we will see the case where the spectrum contains less than 5 peaks."
   ]
  }
 ],
 "metadata": {
  "kernelspec": {
   "display_name": "Python 3 (ipykernel)",
   "language": "python",
   "name": "python3"
  },
  "language_info": {
   "codemirror_mode": {
    "name": "ipython",
    "version": 3
   },
   "file_extension": ".py",
   "mimetype": "text/x-python",
   "name": "python",
   "nbconvert_exporter": "python",
   "pygments_lexer": "ipython3",
   "version": "3.13.7"
  }
 },
 "nbformat": 4,
 "nbformat_minor": 5
}
