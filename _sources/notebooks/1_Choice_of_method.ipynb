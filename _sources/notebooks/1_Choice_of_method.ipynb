{
 "cells": [
  {
   "cell_type": "markdown",
   "id": "0",
   "metadata": {},
   "source": [
    "# Choice of method "
   ]
  },
  {
   "cell_type": "markdown",
   "id": "1",
   "metadata": {},
   "source": [
    "## Introduction"
   ]
  },
  {
   "cell_type": "markdown",
   "id": "2",
   "metadata": {},
   "source": [
    "First of all, you can check that *optifik* is properly installed with the last version by running:"
   ]
  },
  {
   "cell_type": "code",
   "execution_count": null,
   "id": "3",
   "metadata": {},
   "outputs": [],
   "source": [
    "import optifik\n",
    "\n",
    "print(optifik.__version__)"
   ]
  },
  {
   "cell_type": "markdown",
   "id": "4",
   "metadata": {},
   "source": [
    "This number must match on your system if you are up to date."
   ]
  },
  {
   "cell_type": "markdown",
   "id": "5",
   "metadata": {},
   "source": [
    "In this notebook, we demonstrate how to use the three implemented methods for film thickness determination on a dataset. Since these methods rely on peak detection, we begin by illustrating the peak detection process."
   ]
  },
  {
   "cell_type": "markdown",
   "id": "6",
   "metadata": {},
   "source": [
    "## Step 1: Loading Experimental Data from a `.xy` File "
   ]
  },
  {
   "cell_type": "markdown",
   "id": "7",
   "metadata": {},
   "source": [
    "Before applying any thickness analysis method, the first step is to acquire the data using a spectrometer. The spectrometer typically exports the raw spectral data in a `.xy` file format, which is essentially a plain text file containing two columns:\n",
    "\n",
    "- The **wavelength** (in nanometers)  \n",
    "- The corresponding **intensity** (arbitrary units)\n",
    "\n",
    "Here is an example of the raw content in such a file using the NanoCalc 2000 VIS/NIR spectrometer:"
   ]
  },
  {
   "cell_type": "code",
   "execution_count": null,
   "id": "8",
   "metadata": {},
   "outputs": [],
   "source": [
    "from pathlib import Path\n",
    "\n",
    "# Define the path to the folder containing your .xy file\n",
    "datafile_path = Path('../../data/basic/000004310.xy')\n",
    "\n",
    "# Read raw data (first lines)\n",
    "with open(datafile_path, \"r\") as f:\n",
    "    first_lines = f.readlines()[:5]\n",
    "    for line in first_lines:\n",
    "        print(line, end='')\n",
    "    print('...')"
   ]
  },
  {
   "cell_type": "markdown",
   "id": "9",
   "metadata": {},
   "source": [
    "Here we load files from the data provided with optifik: `data/basic/`"
   ]
  },
  {
   "cell_type": "markdown",
   "id": "10",
   "metadata": {},
   "source": [
    "To load this data directly into Python, we use the function `load_spectrum` from the `optifik.io` module."
   ]
  },
  {
   "cell_type": "markdown",
   "id": "11",
   "metadata": {},
   "source": [
    "`load_spectrum` automatically reads the `.xy` file in the given folder.\n",
    "\n",
    "You can specify `wavelength_min` and `wavelength_max` to remove irrelevant data.\n",
    "\n",
    "The function returns:\n",
    "\n",
    "- `wavelengths`: an array of wavelengths (in nm)  \n",
    "- `intensities`: the corresponding measured intensities\n",
    "\n",
    "The data can be ploted with the function `plot_spectrum` from the `optifik.analysis` module. Here an exemple of plot you can obtain."
   ]
  },
  {
   "cell_type": "code",
   "execution_count": null,
   "id": "12",
   "metadata": {},
   "outputs": [],
   "source": [
    "from optifik.io import load_spectrum\n",
    "from optifik.analysis import plot_spectrum\n",
    "\n",
    "# Load wavelengths and intensities from the file\n",
    "# Comma separated values by default\n",
    "# but options are available to read alternative text formats.\n",
    "wavelengths, intensities = load_spectrum(datafile_path, \n",
    "                                         wavelength_min=450, \n",
    "                                         wavelength_max=800)\n",
    "\n",
    "# Intensity as a function of wavelength\n",
    "plot_spectrum(wavelengths, intensities)"
   ]
  },
  {
   "cell_type": "markdown",
   "id": "13",
   "metadata": {},
   "source": [
    "## Step 2: Data Smoothing"
   ]
  },
  {
   "cell_type": "markdown",
   "id": "14",
   "metadata": {},
   "source": [
    "Once this data is loaded, you can apply a Savitsky-Golay filter of order 3 and a window of 11 points to smooth the data. We use the function `smooth_intensities` from the `optifik.analysis` module. Here an exemple of plot you can obtain with the function `plot_spectrum`."
   ]
  },
  {
   "cell_type": "code",
   "execution_count": null,
   "id": "15",
   "metadata": {},
   "outputs": [],
   "source": [
    "from optifik.analysis import smooth_intensities\n",
    "\n",
    "# Smoothing the intensity\n",
    "intensities_smoothed = smooth_intensities(intensities)\n",
    "\n",
    "# Smoothed intensity as a function of wavelength\n",
    "plot_spectrum(wavelengths, intensities_smoothed)"
   ]
  },
  {
   "cell_type": "markdown",
   "id": "16",
   "metadata": {},
   "source": [
    "## Step 3 : Find peaks"
   ]
  },
  {
   "cell_type": "markdown",
   "id": "17",
   "metadata": {},
   "source": [
    "The scipy function `find peaks` is then applied to the smoothed data with the `optifik.analysis` module. Here an exemple of plot you can obtain with the function `finds_peak`."
   ]
  },
  {
   "cell_type": "code",
   "execution_count": null,
   "id": "18",
   "metadata": {},
   "outputs": [],
   "source": [
    "from optifik.analysis import finds_peak\n",
    "\n",
    "# Peak detection function, min_peak_prominence and min_peak_distance can be adjusted.\n",
    "peaks = finds_peak(wavelengths, intensities_smoothed, \n",
    "                   min_peak_prominence=0.018, \n",
    "                   min_peak_distance=10, \n",
    "                   plot=True)"
   ]
  },
  {
   "cell_type": "code",
   "execution_count": null,
   "id": "19",
   "metadata": {},
   "outputs": [],
   "source": [
    "print(peaks)"
   ]
  },
  {
   "cell_type": "markdown",
   "id": "20",
   "metadata": {},
   "source": [
    "The console output shows the wavelength peak indices for both minima and maxima. For this example, 7 peaks have been successfully detected.\n"
   ]
  },
  {
   "cell_type": "markdown",
   "id": "21",
   "metadata": {},
   "source": [
    "## Generalities on the library\n",
    "\n",
    "This walktrough is just an introduction to the main features of the library. Additional options may not be shown, so please, refer to the API section of this documentation for a comprehensive description.\n",
    "\n",
    "Also, note that most functions have a `plot` option, which is designed to help for sanity checks or troubleshooting."
   ]
  },
  {
   "cell_type": "markdown",
   "id": "22",
   "metadata": {},
   "source": [
    "In the following, we will distinguish three cases based on the number of peaks detected in the spectrum, each of which will be treated differently. The procedure described above is assumed to have been followed."
   ]
  }
 ],
 "metadata": {
  "kernelspec": {
   "display_name": "Python 3 (ipykernel)",
   "language": "python",
   "name": "python3"
  },
  "language_info": {
   "codemirror_mode": {
    "name": "ipython",
    "version": 3
   },
   "file_extension": ".py",
   "mimetype": "text/x-python",
   "name": "python",
   "nbconvert_exporter": "python",
   "pygments_lexer": "ipython3",
   "version": "3.13.7"
  }
 },
 "nbformat": 4,
 "nbformat_minor": 5
}
