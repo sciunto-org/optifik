{
 "cells": [
  {
   "cell_type": "markdown",
   "id": "85190265-7738-4384-a9a1-dc30b21028ae",
   "metadata": {},
   "source": [
    "# Examples"
   ]
  },
  {
   "cell_type": "markdown",
   "id": "e0dcdc84-fa78-4970-b89b-0fd4caa6b731",
   "metadata": {},
   "source": [
    "In this section, we demonstrate how to use the three implemented methods for film thickness determination on a dataset. Since these methods rely on peak detection, we begin by illustrating the peak detection process."
   ]
  },
  {
   "cell_type": "markdown",
   "id": "b7d73e02-a5ff-4533-8b44-542336be641c",
   "metadata": {},
   "source": [
    "## Step 1 : Loading Experimental Data from a `.xy` File "
   ]
  },
  {
   "cell_type": "markdown",
   "id": "bd8690af-0a9f-4902-93ae-d25ba8a36256",
   "metadata": {},
   "source": [
    "Before applying any thickness analysis method, the first step is to acquire the data using a spectrometer. The spectrometer typically exports the raw spectral data in a `.xy` file format, which is essentially a plain text file containing two columns :\n",
    "\n",
    "- The **wavelength $\\lambda$** (in nanometers)  \n",
    "- The corresponding **intensity $I^\\star$** (in u.a)\n",
    "\n",
    "Here is an example of the raw content in such a file using the NanoCalc 2000 VIS/NIR spectrometer :"
   ]
  },
  {
   "cell_type": "markdown",
   "id": "f2437751-2294-4cac-aa60-6733de634ff6",
   "metadata": {},
   "source": [
    "``` \n",
    "399.985280,0.396825\r\n",
    "400.329500,0.416667\r\n",
    "400.673680,0.493333\r\n",
    "401.017820,0.378049\r\n",
    "401.361920,0.416667\r\n",
    "401.705980,0.459459"
   ]
  },
  {
   "cell_type": "markdown",
   "id": "ae4f046c-1520-4cda-b2a0-2133953e2646",
   "metadata": {},
   "source": [
    "Let’s suppose this file is saved at the path: `C:\\path\\to\\your\\data\\sample_spectrum.xy`"
   ]
  },
  {
   "cell_type": "markdown",
   "id": "9d467301-fd47-4caf-ad6c-82359db3bbb3",
   "metadata": {},
   "source": [
    "To load this data directly into Python, we use the function `load_spectrum` from the `optifik.io` module."
   ]
  },
  {
   "cell_type": "markdown",
   "id": "c8f15335-96fa-4f4e-aa7e-99a4f2c3dd59",
   "metadata": {},
   "source": [
    "### <span style=\"color:blue;\">Code :</span> "
   ]
  },
  {
   "cell_type": "markdown",
   "id": "cc94e8fc-b870-4f4a-889c-bada293c6c5e",
   "metadata": {},
   "source": [
    "```python\n",
    "from optifik.io import load_spectrum\n",
    "\n",
    "# Define the path to the folder containing your .xy file\n",
    "Data_folder = r'C:\\path\\to\\your\\data'\n",
    "\n",
    "# Load wavelengths and intensities from the file\n",
    "lambdas, intensities = load_spectrum(Data_folder, wavelength_min=450)"
   ]
  },
  {
   "cell_type": "markdown",
   "id": "c0065bba-652e-4e7e-8b1a-acac8ef66c3e",
   "metadata": {},
   "source": [
    "`load_spectrum` automatically reads the `.xy` file in the given folder.\n",
    "\n",
    "You can specify `wavelength_min` and `wavelength_max` to remove irrelevant data.\n",
    "\n",
    "The function returns:\n",
    "\n",
    "- `lambdas`: an array of wavelengths (in nm)  \n",
    "- `intensities`: the corresponding measured intensities\n",
    "\n",
    "The data can be ploted with the function `plot_spectrum` from the `optifik.analysis` module. Here an exemple of plot you can obtain."
   ]
  },
  {
   "cell_type": "markdown",
   "id": "312eb672-cc50-476d-b74d-9886cd8d3f51",
   "metadata": {
    "jp-MarkdownHeadingCollapsed": true
   },
   "source": [
    "<img src=\"Plot_Spectrum.png\" alt=\"Plot_Spectrum.png\" width=\"600\"/>"
   ]
  },
  {
   "cell_type": "markdown",
   "id": "bac10394-1cf1-4a7f-bbc1-b4e43fb9aeaf",
   "metadata": {},
   "source": [
    "### <span style=\"color:blue;\">Code :</span> "
   ]
  },
  {
   "cell_type": "markdown",
   "id": "78042081-84b4-48cc-a1fd-d22b5490738a",
   "metadata": {},
   "source": [
    "```python\n",
    "from optifik.analysis import plot_spectrum\n",
    "\n",
    "# Intensity as a function of wavelength\n",
    "plot_spectrum(lambdas,intensities)\n"
   ]
  },
  {
   "cell_type": "markdown",
   "id": "0cf0a3b8-34ca-438f-b5dd-de64ddddb80b",
   "metadata": {},
   "source": [
    "## Step 2 : Data Smoothing"
   ]
  },
  {
   "cell_type": "markdown",
   "id": "a72be3ca-0059-43cc-899b-58292672b36e",
   "metadata": {},
   "source": [
    "Once this data is loaded, you can apply a Savitsky-Golay filter of order 3 and a window of 11 points to smooth the data. We use the function `smooth_intensities` from the `optifik.analysis` module. Here an exemple of plot you can obtain with the function `plot_spectrum`."
   ]
  },
  {
   "cell_type": "markdown",
   "id": "c72618bb-993d-4621-9b57-413b79f9735d",
   "metadata": {},
   "source": [
    "<img src=\"Plot_Spectrum_Smoothed_Intensities.png\" alt=\"Plot_Spectrum_Smoothed_Intensities.png\" width=\"600\"/>"
   ]
  },
  {
   "cell_type": "markdown",
   "id": "effc3cc6-bdfa-44af-b135-6aaf88e98e46",
   "metadata": {},
   "source": [
    "### <span style=\"color:blue;\">Code :</span> "
   ]
  },
  {
   "cell_type": "markdown",
   "id": "9f51e902-8417-486a-8d98-746f3e9e8cdc",
   "metadata": {},
   "source": [
    "```python\n",
    "from optifik.analysis import smooth_intensities\n",
    "\n",
    "# Smoothing the intensity\n",
    "Intensities_smoothed = smooth_intensities(intensities)\n",
    "\n",
    "# Smoothed intensity as a function of wavelength\n",
    "plot_spectrum(lambdas, Intensities_smoothed)"
   ]
  },
  {
   "cell_type": "markdown",
   "id": "4d3449cc-f4e8-46df-a608-a1ed00e14f94",
   "metadata": {},
   "source": [
    "## Step 3 : Find peaks"
   ]
  },
  {
   "cell_type": "markdown",
   "id": "fb85349e-7233-4eb6-9306-895410ba62f9",
   "metadata": {},
   "source": [
    "The scipy function `find peaks` is then applied to the smoothed data with the `optifik.analysis` module. Here an exemple of plot you can obtain."
   ]
  },
  {
   "cell_type": "markdown",
   "id": "67124f72-1b06-4f19-b0d8-ed9c6c22efd6",
   "metadata": {},
   "source": [
    "<img src=\"Finds_Peaks.png\" alt=\"Finds_Peaks.png\" width=\"600\"/>"
   ]
  },
  {
   "cell_type": "markdown",
   "id": "f6707ce3-36a0-4ea3-8e0a-9bd02b311af4",
   "metadata": {},
   "source": [
    "### <span style=\"color:blue;\">Code :</span> "
   ]
  },
  {
   "cell_type": "markdown",
   "id": "658341f2-34fa-4e0d-b01e-a735c338c5aa",
   "metadata": {
    "jp-MarkdownHeadingCollapsed": true
   },
   "source": [
    "```python\n",
    "from optifik.analysis import finds_peak\n",
    "\n",
    "# Peak detection function\n",
    "finds_peak(lambdas, Intensities_smoothed, min_peak_prominence=0.018, min_peak_distance=10, plot=True)\n"
   ]
  },
  {
   "cell_type": "markdown",
   "id": "bbac474b-aebb-4fe3-bff2-1087d344292d",
   "metadata": {},
   "source": [
    "### <span style=\"color:red;\"> Complete Code :</span> \n",
    "\n",
    "```python\n",
    "from optifik.io import load_spectrum\n",
    "from optifik.analysis import plot_spectrum\n",
    "from optifik.analysis import smooth_intensities\n",
    "from optifik.analysis import finds_peak\n",
    "\n",
    "# Define the path to the folder containing your .xy file\n",
    "Data_folder = r'C:\\path\\to\\your\\data'\n",
    "\n",
    "# Load wavelengths and intensities from the file\n",
    "lambdas, intensities = load_spectrum(Data_folder, wavelength_min=450)\n",
    "\n",
    "# Intensity as a function of wavelength\n",
    "plot_spectrum(lambdas,intensities)\n",
    "\n",
    "# Smoothing the intensity\n",
    "Intensities_smoothed = smooth_intensities(intensities)\n",
    "\n",
    "# Smoothed intensity as a function of wavelength\n",
    "plot_spectrum(lambdas, Intensities_smoothed)\n",
    "\n",
    "# Peak detection function\n",
    "finds_peak(lambdas, Intensities_smoothed, min_peak_prominence=0.018, min_peak_distance=10, plot=True)"
   ]
  },
  {
   "cell_type": "markdown",
   "id": "42d2f0f6-1d7d-4717-9d5d-d6ceef4e6d06",
   "metadata": {},
   "source": [
    "### <span style=\"color:blue;\">Console output :</span> "
   ]
  },
  {
   "cell_type": "markdown",
   "id": "b4b8cf19-ff5d-46a3-b78b-17dd97bcc6df",
   "metadata": {},
   "source": [
    "```python\n",
    "(array([ 75, 300, 632], dtype=int64), \n",
    " array([ 15, 191, 454, 840], dtype=int64)"
   ]
  },
  {
   "cell_type": "markdown",
   "id": "01e2b988-d0b8-41ab-8928-275431ba854b",
   "metadata": {},
   "source": [
    "The console output shows the wavelength peak indices for both minima and maxima.\n"
   ]
  },
  {
   "cell_type": "markdown",
   "id": "1740e713-43b9-4aa4-875d-2dc5720a2b9b",
   "metadata": {},
   "source": [
    "### <span style=\"color:purple;\">Remarks:</span> \n",
    "- The minimum peak prominence is set to 0.018 and the minimum peak distance is set to 10, but these parameters can be adjusted.\n",
    "- For this example, 7 peaks have been successfully detected."
   ]
  },
  {
   "cell_type": "markdown",
   "id": "1542e01b-5b86-4c3e-abff-593124336103",
   "metadata": {},
   "source": [
    "In the following, we will distinguish three cases based on the number of peaks detected in the spectrum, each of which will be treated differently. The procedure described above is assumed to have been followed."
   ]
  }
 ],
 "metadata": {
  "kernelspec": {
   "display_name": "Python 3 (ipykernel)",
   "language": "python",
   "name": "python3"
  },
  "language_info": {
   "codemirror_mode": {
    "name": "ipython",
    "version": 3
   },
   "file_extension": ".py",
   "mimetype": "text/x-python",
   "name": "python",
   "nbconvert_exporter": "python",
   "pygments_lexer": "ipython3",
   "version": "3.13.5"
  }
 },
 "nbformat": 4,
 "nbformat_minor": 5
}
