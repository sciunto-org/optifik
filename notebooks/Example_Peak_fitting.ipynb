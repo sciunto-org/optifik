{
 "cells": [
  {
   "cell_type": "markdown",
   "id": "85190265-7738-4384-a9a1-dc30b21028ae",
   "metadata": {},
   "source": [
    "# Intermediate thickness : Peak fitting"
   ]
  },
  {
   "cell_type": "markdown",
   "id": "159f3a59-b0ee-4d1a-8a7f-4c15a375782a",
   "metadata": {},
   "source": [
    "When the spectrum contains only few peaks, FFT method becomes less reliable. To determine the film thickness $h$, we consider two scenarii : either the peak fitting is successful, or small fitting errors are present. Theoritical backgrounds of the two method are explain in an upcoming publication."
   ]
  },
  {
   "cell_type": "markdown",
   "id": "ac06de2a-a310-461e-b03f-7560ee5282ca",
   "metadata": {},
   "source": [
    "## Scenario 1 : Successful peak fitting"
   ]
  },
  {
   "cell_type": "markdown",
   "id": "bd8690af-0a9f-4902-93ae-d25ba8a36256",
   "metadata": {},
   "source": [
    "Assuming the previous procedure has been followed and the resulting peak plot is as follows :"
   ]
  },
  {
   "cell_type": "markdown",
   "id": "312eb672-cc50-476d-b74d-9886cd8d3f51",
   "metadata": {
    "jp-MarkdownHeadingCollapsed": true
   },
   "source": [
    "<img src=\"Finds_Peaks.png\" alt=\"Finds_Peaks.png\" width=\"600\"/>"
   ]
  },
  {
   "cell_type": "markdown",
   "id": "bdbd238e-97d7-4917-a526-2007850b2664",
   "metadata": {},
   "source": [
    "To derive the film thickness $h$, we use the linear regression method `method='linreg'` of the `thickness_from_minmax` function from the `optifik.minmax` module. Here an exemple of plot you can obtain."
   ]
  },
  {
   "cell_type": "markdown",
   "id": "a75fbd72-c8db-4b54-b6b3-f7ecf77329d4",
   "metadata": {},
   "source": [
    "<img src=\"Plot_minmax.png\" alt=\"Plot_minmax.png\" width=\"600\"/>"
   ]
  },
  {
   "cell_type": "markdown",
   "id": "bac10394-1cf1-4a7f-bbc1-b4e43fb9aeaf",
   "metadata": {},
   "source": [
    "### <span style=\"color:blue;\">Code :</span> "
   ]
  },
  {
   "cell_type": "markdown",
   "id": "e4c7a850-69ae-413c-a553-a6529b89f329",
   "metadata": {},
   "source": [
    "```python\n",
    "from optifik.minmax import thickness_from_minmax\n",
    "\n",
    "# Determine the film thickness by least squares linear regression\n",
    "thickness_from_minmax(lambdas,Intensities_smoothed,refractive_index=1.33,min_peak_prominence=0.018,min_peak_distance=10,method='linreg',plot=True)n\r\n"
   ]
  },
  {
   "cell_type": "markdown",
   "id": "d229d8f6-e6c5-4af0-bfbe-8c9a23e2b2e6",
   "metadata": {},
   "source": [
    "The least-squares regression method in the `thickness_from_minmax` function automatically determines the film thickness $h$."
   ]
  },
  {
   "cell_type": "markdown",
   "id": "a824c777-bd6f-4539-8267-b912d94b729e",
   "metadata": {
    "jp-MarkdownHeadingCollapsed": true
   },
   "source": [
    "### <span style=\"color:red;\"> Complete Code :</span> \n",
    "\n",
    "```python\n",
    "from optifik.io import load_spectrum\n",
    "from optifik.analysis import plot_spectrum\n",
    "from optifik.analysis import smooth_intensities\n",
    "from optifik.minmax import thickness_from_minmax\n",
    "\n",
    "# Define the path to the folder containing your .xy file\n",
    "Data_folder = r'C:\\path\\to\\your\\data'\n",
    "\n",
    "# Load wavelengths and intensities from the file\n",
    "lambdas, intensities = load_spectrum(Data_folder, wavelength_min=450)\n",
    "\n",
    "# Intensity as a function of wavelength\n",
    "plot_spectrum(lambdas,intensities)\n",
    "\n",
    "# Smoothing the intensity\n",
    "Intensities_smoothed = smooth_intensities(intensities)\n",
    "\n",
    "# Smoothed intensity as a function of wavelength\n",
    "plot_spectrum(lambdas, Intensities_smoothed)\n",
    "\n",
    "# Determine the film thickness by least squares linear regression\n",
    "thickness_from_minmax(lambdas,Intensities_smoothed,refractive_index=1.33,min_peak_prominence=0.018,min_peak_distance=10,method='linreg',plot=True)"
   ]
  },
  {
   "cell_type": "markdown",
   "id": "73b98df8-74d8-4828-b94a-1f4e450dc837",
   "metadata": {},
   "source": [
    "### <span style=\"color:blue;\">Console output :</span> "
   ]
  },
  {
   "cell_type": "markdown",
   "id": "bc56a910-bde0-42e2-9600-b0dc03738c98",
   "metadata": {},
   "source": [
    "```python\n",
    "peaks_max: array([ 15, 191, 454, 840], dtype=int64)\n",
    "peaks_min: array([ 75, 300, 632], dtype=int64)\n",
    "stderr: 3.90305266316079e-06\n",
    "thickness: 1363.2494169087543"
   ]
  },
  {
   "cell_type": "markdown",
   "id": "cd6b7639-58ec-4944-8783-3b334362914e",
   "metadata": {},
   "source": [
    "The console output shows the wavelength peak indices for minima and maxima, along with the standard deviation of the film thickness $h$, which is 1363.25 nm in this example"
   ]
  },
  {
   "cell_type": "markdown",
   "id": "1740e713-43b9-4aa4-875d-2dc5720a2b9b",
   "metadata": {
    "jp-MarkdownHeadingCollapsed": true
   },
   "source": [
    "### <span style=\"color:purple;\">Remarks:</span> \n",
    "- The example correponds to the file `000004310.xy`, located in the `..\\tests\\basic` folder\n",
    "- You can specify the medium's refractive index, the peak prominence and the minimum peak distance using the `refractive_index`, `min_peak_prominence` and the  `min_peak_distance` parameters, respectively.\n",
    "- You can also provide a refractive index function $n(\\lambda)$ as an `refractive_index` input."
   ]
  },
  {
   "cell_type": "markdown",
   "id": "57c0bb41-54a7-4aab-8e2a-304f8fda6106",
   "metadata": {},
   "source": [
    "## Scenario 2 : Small errors detection"
   ]
  },
  {
   "cell_type": "markdown",
   "id": "1575e813-8cd6-47c7-9911-013320def21a",
   "metadata": {},
   "source": [
    "Assuming the previous procedure has been followed and the resulting peak plot is as follows :"
   ]
  },
  {
   "cell_type": "markdown",
   "id": "1c7e6d34-14c8-4b3a-8927-158a44c32fdc",
   "metadata": {},
   "source": [
    "<img src=\"Plot_Peak_ransac.png\" alt=\"Plot_Peak_ransac.png\" width=\"600\"/>"
   ]
  },
  {
   "cell_type": "markdown",
   "id": "b744eef0-338f-4d49-be47-514782f94030",
   "metadata": {},
   "source": [
    "On the above figure, errors are visible on the rightmost data points. To derive the film thickness $h$, we use the RANSAC method `method='ransac'` of the `thickness_from_minmax` function from the `optifik.minmax` module. Here an exemple of plot you can obtain."
   ]
  },
  {
   "cell_type": "markdown",
   "id": "ef81574b-1c46-42b2-83ec-9b4e72906b43",
   "metadata": {},
   "source": [
    "<img src=\"Plot_ransac.png\" alt=\"Plot_ransac.png\" width=\"600\"/>"
   ]
  },
  {
   "cell_type": "markdown",
   "id": "2ebd35ff-cd2d-4c73-8495-5cc04c5acc00",
   "metadata": {},
   "source": [
    "### <span style=\"color:blue;\">Code :</span> "
   ]
  },
  {
   "cell_type": "markdown",
   "id": "fe4888cc-a8cc-4491-9526-bac8f8877397",
   "metadata": {},
   "source": [
    "```python\n",
    "from optifik.minmax import thickness_from_minmax\n",
    "\n",
    "# Determine the film thickness by RANSAC procedure\n",
    "thickness_from_minmax(lambdas,Intensities_smoothed,refractive_index=1.33,min_peak_prominence=0.018,min_peak_distance=10,method='ransac',plot=True)"
   ]
  },
  {
   "cell_type": "markdown",
   "id": "dc339803-05dc-4428-b837-ce36f45e0358",
   "metadata": {},
   "source": [
    "The RANSAC-based method in the `thickness_from_minmax` function automatically determines the film thickness $h$.\n"
   ]
  },
  {
   "cell_type": "markdown",
   "id": "bbac474b-aebb-4fe3-bff2-1087d344292d",
   "metadata": {
    "jp-MarkdownHeadingCollapsed": true
   },
   "source": [
    "### <span style=\"color:red;\"> Complete Code :</span> \n",
    "\n",
    "```python\n",
    "from optifik.io import load_spectrum\n",
    "from optifik.analysis import plot_spectrum\n",
    "from optifik.analysis import smooth_intensities\n",
    "from optifik.minmax import thickness_from_minmax\n",
    "\n",
    "# Define the path to the folder containing your .xy file\n",
    "Data_folder = r'C:\\path\\to\\your\\data'\n",
    "\n",
    "# Load wavelengths and intensities from the file\n",
    "lambdas, intensities = load_spectrum(Data_folder, wavelength_min=450)\n",
    "\n",
    "# Intensity as a function of wavelength\n",
    "plot_spectrum(lambdas,intensities)\n",
    "\n",
    "# Smoothing the intensity\n",
    "Intensities_smoothed = smooth_intensities(intensities)\n",
    "\n",
    "# Smoothed intensity as a function of wavelength\n",
    "plot_spectrum(lambdas, Intensities_smoothed)\n",
    "\n",
    "# Determine the film thickness by least squares linear regression\n",
    "thickness_from_minmax(lambdas,Intensities_smoothed,refractive_index=1.33,min_peak_prominence=0.018,min_peak_distance=10,method='ransac',plot=True)"
   ]
  },
  {
   "cell_type": "markdown",
   "id": "6005cead-e98c-478c-ace6-2097b5d911c6",
   "metadata": {},
   "source": [
    "### <span style=\"color:blue;\"> Console output :</span> "
   ]
  },
  {
   "cell_type": "markdown",
   "id": "b934eac3-8285-4ac3-9910-d0e8ec7ac00f",
   "metadata": {},
   "source": [
    "```python \n",
    "num_inliers: 8 \n",
    "num_outliers: 3 \n",
    "peaks_max: array([ 118, 327, 635, 1045, 1080], dtype=int64) \n",
    "peaks_min: array([ 29, 205, 463, 833, 1060, 1102], dtype=int64) \n",
    "thickness: 1453.9390579484857 "
   ]
  },
  {
   "cell_type": "markdown",
   "id": "793b392f-4efa-4648-83c3-93df08165f19",
   "metadata": {},
   "source": [
    "The console output shows the number of successfully detected peaks, the number of failed detections, the wavelength peak indices for both minima and maxima, and the film thickness $h$, which is 1453.94 nm in this example."
   ]
  },
  {
   "cell_type": "markdown",
   "id": "e64c3150-8e79-4df1-ab2f-4d4f31014f20",
   "metadata": {},
   "source": [
    "### <span style=\"color:purple;\">Remarks:</span> \n",
    "- You can specify the medium's refractive index, the peak prominence and the minimum peak distance using the `refractive_index`, `min_peak_prominence` and the  `min_peak_distance` parameters, respectively.\n",
    "- You can also provide a refractive index function $n(\\lambda)$ as an `refractive_index` input."
   ]
  },
  {
   "cell_type": "markdown",
   "id": "1542e01b-5b86-4c3e-abff-593124336103",
   "metadata": {},
   "source": [
    "In the following, we will see the case where the spectrum contains less than 5 peaks."
   ]
  }
 ],
 "metadata": {
  "kernelspec": {
   "display_name": "Python 3 (ipykernel)",
   "language": "python",
   "name": "python3"
  },
  "language_info": {
   "codemirror_mode": {
    "name": "ipython",
    "version": 3
   },
   "file_extension": ".py",
   "mimetype": "text/x-python",
   "name": "python",
   "nbconvert_exporter": "python",
   "pygments_lexer": "ipython3",
   "version": "3.11.7"
  }
 },
 "nbformat": 4,
 "nbformat_minor": 5
}
