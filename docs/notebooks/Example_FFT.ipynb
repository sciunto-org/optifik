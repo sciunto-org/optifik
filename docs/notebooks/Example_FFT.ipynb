{
 "cells": [
  {
   "cell_type": "markdown",
   "id": "85190265-7738-4384-a9a1-dc30b21028ae",
   "metadata": {},
   "source": [
    "# Thick films : Fast Fourier Transform (FFT) Method"
   ]
  },
  {
   "cell_type": "markdown",
   "id": "159f3a59-b0ee-4d1a-8a7f-4c15a375782a",
   "metadata": {},
   "source": [
    "When the spectrum contains a large number of peaks (> 15), the most suitable method is to make an FFT. Theoritical details will be provided in an upcoming publication. "
   ]
  },
  {
   "cell_type": "markdown",
   "id": "bd8690af-0a9f-4902-93ae-d25ba8a36256",
   "metadata": {},
   "source": [
    "Assuming the previous procedure has been followed and the resulting peak plot is as follows :"
   ]
  },
  {
   "cell_type": "markdown",
   "id": "312eb672-cc50-476d-b74d-9886cd8d3f51",
   "metadata": {
    "jp-MarkdownHeadingCollapsed": true
   },
   "source": [
    "<img src=\"Plot_Spectrum_FFT.png\" alt=\"Plot_Spectrum_FFT.png\" width=\"600\"/>"
   ]
  },
  {
   "cell_type": "markdown",
   "id": "bdbd238e-97d7-4917-a526-2007850b2664",
   "metadata": {},
   "source": [
    "For this case, 21 peak have been successfully identified. To derive the film thickness $h$, we use the `thickness_from_fft` function from the `optifik.fft` module. Here an exemple of plot you can obtain."
   ]
  },
  {
   "cell_type": "markdown",
   "id": "a75fbd72-c8db-4b54-b6b3-f7ecf77329d4",
   "metadata": {},
   "source": [
    "<img src=\"Plot_FFT.png\" alt=\"Plot_FFT.png\" width=\"600\"/>"
   ]
  },
  {
   "cell_type": "markdown",
   "id": "bac10394-1cf1-4a7f-bbc1-b4e43fb9aeaf",
   "metadata": {},
   "source": [
    "### <span style=\"color:blue;\">Code :</span> "
   ]
  },
  {
   "cell_type": "markdown",
   "id": "e4c7a850-69ae-413c-a553-a6529b89f329",
   "metadata": {},
   "source": [
    "```python\n",
    "from optifik.fft import thickness_from_fft\n",
    "\n",
    "# Determine the film thickness by Fast Fourier Transform\n",
    "thickness_from_fft(lambdas,Intensities_smoothed,refractive_index=1.33,num_half_space=None,plot=True)"
   ]
  },
  {
   "cell_type": "markdown",
   "id": "923c23c6-03ea-4be2-8f85-ccafc95c6fe5",
   "metadata": {},
   "source": [
    "The `thickness_from_fft` function automatically determines the film thickness.\n"
   ]
  },
  {
   "cell_type": "markdown",
   "id": "bbac474b-aebb-4fe3-bff2-1087d344292d",
   "metadata": {},
   "source": [
    "### <span style=\"color:red;\"> Complete Code :</span> \n",
    "\n",
    "```python\n",
    "from optifik.io import load_spectrum\n",
    "from optifik.analysis import plot_spectrum\n",
    "from optifik.analysis import smooth_intensities\n",
    "from optifik.analysis import finds_peak\n",
    "\n",
    "from optifik.fft import thickness_from_fft\n",
    "\n",
    "# Define the path to the folder containing your .xy file\n",
    "Data_folder = rC:\\path\\to\\your\\dataa'\n",
    "\n",
    "# Load wavelengths and intensities from the file\n",
    "lambdas, intensities = load_spectrum(Data_folder, wavelength_min=450)\n",
    "\n",
    "# Intensity as a function of wavelength\n",
    "plot_spectrum(lambdas,intensities)\n",
    "\n",
    "# Smoothing the intensity\n",
    "Intensities_smoothed = smooth_intensities(intensities)\n",
    "\n",
    "# Smoothed intensity as a function of wavelength\n",
    "plot_spectrum(lambdas, Intensities_smoothed)\n",
    "\n",
    "# Determine the film thickness by Fast Fourier Transform\n",
    "thickness_from_fft(lambdas,Intensities_smoothed,refractive_index=1.33,num_half_space=None,plot=True)"
   ]
  },
  {
   "cell_type": "markdown",
   "id": "b915d87f-560e-4a71-911d-5710afec11ce",
   "metadata": {},
   "source": [
    "### <span style=\"color:blue;\">Console output :</span> "
   ]
  },
  {
   "cell_type": "markdown",
   "id": "7b731a7a-23da-428f-bc7e-9bd37126531e",
   "metadata": {},
   "source": [
    "```python\n",
    "thickness: 3562.947001650467"
   ]
  },
  {
   "cell_type": "markdown",
   "id": "cd6b7639-58ec-4944-8783-3b334362914e",
   "metadata": {},
   "source": [
    "The console output shows the film thickness $h$, which is 3563 nm in this example."
   ]
  },
  {
   "cell_type": "markdown",
   "id": "1740e713-43b9-4aa4-875d-2dc5720a2b9b",
   "metadata": {},
   "source": [
    "### <span style=\"color:purple;\">Remarks:</span> \n",
    "- The example correponds to the file `003582.xy`, located in the `..\\tests\\basic` folder\n",
    "- You can specify the medium's refractive index using the `refractive_index` parameter.\n",
    "- You can also provide a refractive index function $n(\\lambda)$ as an `refractive_index` input.\n",
    "- Even if peak detection occasionally fails, it has no impact on the FFT since the transform is applied to the entire dataset."
   ]
  },
  {
   "cell_type": "markdown",
   "id": "1542e01b-5b86-4c3e-abff-593124336103",
   "metadata": {},
   "source": [
    "In the following, we will see the case where the spectrum contains only few peaks."
   ]
  }
 ],
 "metadata": {
  "kernelspec": {
   "display_name": "Python 3 (ipykernel)",
   "language": "python",
   "name": "python3"
  },
  "language_info": {
   "codemirror_mode": {
    "name": "ipython",
    "version": 3
   },
   "file_extension": ".py",
   "mimetype": "text/x-python",
   "name": "python",
   "nbconvert_exporter": "python",
   "pygments_lexer": "ipython3",
   "version": "3.11.7"
  }
 },
 "nbformat": 4,
 "nbformat_minor": 5
}
